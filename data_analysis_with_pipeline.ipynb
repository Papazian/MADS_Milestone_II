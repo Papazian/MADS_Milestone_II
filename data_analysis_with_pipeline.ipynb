{
 "cells": [
  {
   "cell_type": "code",
   "execution_count": null,
   "id": "9eb83e40",
   "metadata": {},
   "outputs": [],
   "source": [
    "# Read in the cleaned and joined data\n",
    "\n",
    "raw_df = pd.read_csv('bin/cleaned_and_joined.csv')\n"
   ]
  }
 ],
 "metadata": {
  "language_info": {
   "name": "python"
  }
 },
 "nbformat": 4,
 "nbformat_minor": 5
}
