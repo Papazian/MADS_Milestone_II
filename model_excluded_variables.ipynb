{
 "cells": [
  {
   "cell_type": "markdown",
   "id": "91b7d17a",
   "metadata": {},
   "source": [
    "This notebook identifies variables to be excluded from the training data set. These variables have been excluded for reasons such as being non-relevant identifiers, components of the target variable, or data from after mortgage origination providing data leakage.\n",
    "\n",
    "Variables will be stored in .yaml file and utilized by the train_test_split.py script"
   ]
  },
  {
   "cell_type": "code",
   "execution_count": 67,
   "id": "ab4a61a9",
   "metadata": {},
   "outputs": [],
   "source": [
    "import re\n",
    "import yaml\n",
    "import pandas as pd\n",
    "pd.set_option('display.float_format', lambda x: '%.3f' % x)"
   ]
  },
  {
   "cell_type": "code",
   "execution_count": 68,
   "id": "e64576c7",
   "metadata": {},
   "outputs": [],
   "source": [
    "df = pd.read_csv('bin/cleaned_and_joined.csv')"
   ]
  },
  {
   "cell_type": "code",
   "execution_count": 69,
   "id": "380c7d7d",
   "metadata": {},
   "outputs": [],
   "source": [
    "# List variables to be excluded\n",
    "\n",
    "exclude_variables = ['nsmoid',          # NSMO Identification Number\n",
    "                     'survey_wave',     # NSMO Survey Wave (Quarterly)\n",
    "                     'analysis_weight', # NSMO Analysis Weight (Sampling Weight x Non-response Adjustment)\n",
    "                     'rate_spread',     # Mortgage Interest Rate Spread at Origination (Percent)\n",
    "                     'pmms',            # Freddie Mac's Primary Mortgage Market Survey (PMMS) Rate at Origination (Percent)\n",
    "                     'DGS30',           # Market Yield on U.S. Treasury Securities at 30-Year Constant Maturity, Quoted on an Investment Basis\n",
    "                     'Beta'             # Original Beta before it was winsorized\n",
    "                    ]"
   ]
  },
  {
   "cell_type": "code",
   "execution_count": 70,
   "id": "80e4e58e",
   "metadata": {},
   "outputs": [
    {
     "name": "stdout",
     "output_type": "stream",
     "text": [
      "['score_0313_r', 'score_0613_r', 'score_0913_r', 'score_1213_r', 'score_0314_r', 'score_0614_r', 'score_0914_r', 'score_1214_r', 'score_0315_r', 'score_0615_r', 'score_0915_r', 'score_1215_r', 'score_0316_r', 'score_0616_r', 'score_0916_r', 'score_1216_r', 'score_0317_r', 'score_0617_r', 'score_0917_r', 'score_1217_r', 'score_0318_r', 'score_0618_r', 'score_0918_r', 'score_1218_r', 'score_0319_r', 'score_0619_r', 'score_0919_r', 'score_1219_r', 'score_0320_r', 'score_0620_r', 'score_0920_r', 'score_1220_r', 'score_0321_r', 'score_0621_r', 'score_0921_r', 'score_1221_r', 'score_0322_r', 'score_0622_r', 'score_0922_r', 'score_1222_r', 'score_0323_r', 'score_0623_r', 'score_0923_r', 'score_0313_s', 'score_0613_s', 'score_0913_s', 'score_1213_s', 'score_0314_s', 'score_0614_s', 'score_0914_s', 'score_1214_s', 'score_0315_s', 'score_0615_s', 'score_0915_s', 'score_1215_s', 'score_0316_s', 'score_0616_s', 'score_0916_s', 'score_1216_s', 'score_0317_s', 'score_0617_s', 'score_0917_s', 'score_1217_s', 'score_0318_s', 'score_0618_s', 'score_0918_s', 'score_1218_s', 'score_0319_s', 'score_0619_s', 'score_0919_s', 'score_1219_s', 'score_0320_s', 'score_0620_s', 'score_0920_s', 'score_1220_s', 'score_0321_s', 'score_0621_s', 'score_0921_s', 'score_1221_s', 'score_0322_s', 'score_0622_s', 'score_0922_s', 'score_1222_s', 'score_0323_s', 'score_0623_s', 'score_0923_s', 'mtmltv0313', 'mtmltv0613', 'mtmltv0913', 'mtmltv1213', 'mtmltv0314', 'mtmltv0614', 'mtmltv0914', 'mtmltv1214', 'mtmltv0315', 'mtmltv0615', 'mtmltv0915', 'mtmltv1215', 'mtmltv0316', 'mtmltv0616', 'mtmltv0916', 'mtmltv1216', 'mtmltv0317', 'mtmltv0617', 'mtmltv0917', 'mtmltv1217', 'mtmltv0318', 'mtmltv0618', 'mtmltv0918', 'mtmltv1218', 'mtmltv0319', 'mtmltv0619', 'mtmltv0919', 'mtmltv1219', 'mtmltv0320', 'mtmltv0620', 'mtmltv0920', 'mtmltv1220', 'mtmltv0321', 'mtmltv0621', 'mtmltv0921', 'mtmltv1221', 'mtmltv0322', 'mtmltv0622', 'mtmltv0922', 'mtmltv1222', 'mtmltv0323', 'mtmltv0623', 'mtmltv0923', 'x5001_1', 'x5001_2', 'x5001_3', 'x5001_4', 'x6701_1', 'x6701_2', 'x6701_3', 'x6701_4', 'x8201_1', 'x8201_2', 'x8202_1', 'x8202_2', 'open_year_2013', 'open_year_2014', 'open_year_2015', 'open_year_2016', 'open_year_2017', 'open_year_2018', 'open_year_2019', 'open_year_2020', 'open_year_2021', 'perf_status_0313_A', 'perf_status_0313_C', 'perf_status_0313_K', 'perf_status_0313_P', 'perf_status_0313_Q', 'perf_status_0613_9', 'perf_status_0613_A', 'perf_status_0613_C', 'perf_status_0613_K', 'perf_status_0613_P', 'perf_status_0613_Q', 'perf_status_0613_S', 'perf_status_0913_1', 'perf_status_0913_A', 'perf_status_0913_C', 'perf_status_0913_K', 'perf_status_0913_M', 'perf_status_0913_P', 'perf_status_0913_Q', 'perf_status_0913_S', 'perf_status_1213_1', 'perf_status_1213_2', 'perf_status_1213_A', 'perf_status_1213_C', 'perf_status_1213_K', 'perf_status_1213_M', 'perf_status_1213_P', 'perf_status_1213_Q', 'perf_status_1213_S', 'perf_status_0314_1', 'perf_status_0314_4', 'perf_status_0314_5', 'perf_status_0314_7', 'perf_status_0314_A', 'perf_status_0314_C', 'perf_status_0314_K', 'perf_status_0314_M', 'perf_status_0314_P', 'perf_status_0314_Q', 'perf_status_0314_S', 'perf_status_0614_1', 'perf_status_0614_2', 'perf_status_0614_3', 'perf_status_0614_6', 'perf_status_0614_7', 'perf_status_0614_A', 'perf_status_0614_C', 'perf_status_0614_K', 'perf_status_0614_M', 'perf_status_0614_P', 'perf_status_0614_Q', 'perf_status_0614_S', 'perf_status_0914_1', 'perf_status_0914_2', 'perf_status_0914_3', 'perf_status_0914_4', 'perf_status_0914_7', 'perf_status_0914_9', 'perf_status_0914_A', 'perf_status_0914_C', 'perf_status_0914_K', 'perf_status_0914_M', 'perf_status_0914_P', 'perf_status_0914_Q', 'perf_status_0914_S', 'perf_status_1214_1', 'perf_status_1214_2', 'perf_status_1214_3', 'perf_status_1214_4', 'perf_status_1214_5', 'perf_status_1214_6', 'perf_status_1214_7', 'perf_status_1214_8', 'perf_status_1214_9', 'perf_status_1214_A', 'perf_status_1214_C', 'perf_status_1214_K', 'perf_status_1214_M', 'perf_status_1214_P', 'perf_status_1214_Q', 'perf_status_1214_S', 'perf_status_0315_1', 'perf_status_0315_2', 'perf_status_0315_3', 'perf_status_0315_4', 'perf_status_0315_6', 'perf_status_0315_7', 'perf_status_0315_8', 'perf_status_0315_9', 'perf_status_0315_A', 'perf_status_0315_C', 'perf_status_0315_K', 'perf_status_0315_M', 'perf_status_0315_P', 'perf_status_0315_Q', 'perf_status_0315_S', 'perf_status_0615_1', 'perf_status_0615_2', 'perf_status_0615_3', 'perf_status_0615_4', 'perf_status_0615_5', 'perf_status_0615_6', 'perf_status_0615_7', 'perf_status_0615_8', 'perf_status_0615_9', 'perf_status_0615_A', 'perf_status_0615_C', 'perf_status_0615_K', 'perf_status_0615_M', 'perf_status_0615_P', 'perf_status_0615_Q', 'perf_status_0615_S', 'perf_status_0915_1', 'perf_status_0915_2', 'perf_status_0915_3', 'perf_status_0915_4', 'perf_status_0915_5', 'perf_status_0915_6', 'perf_status_0915_7', 'perf_status_0915_8', 'perf_status_0915_9', 'perf_status_0915_A', 'perf_status_0915_C', 'perf_status_0915_K', 'perf_status_0915_M', 'perf_status_0915_P', 'perf_status_0915_Q', 'perf_status_0915_S', 'perf_status_1215_1', 'perf_status_1215_2', 'perf_status_1215_3', 'perf_status_1215_4', 'perf_status_1215_5', 'perf_status_1215_6', 'perf_status_1215_7', 'perf_status_1215_8', 'perf_status_1215_9', 'perf_status_1215_A', 'perf_status_1215_C', 'perf_status_1215_K', 'perf_status_1215_M', 'perf_status_1215_P', 'perf_status_1215_Q', 'perf_status_1215_S', 'perf_status_0316_1', 'perf_status_0316_2', 'perf_status_0316_3', 'perf_status_0316_4', 'perf_status_0316_5', 'perf_status_0316_6', 'perf_status_0316_7', 'perf_status_0316_8', 'perf_status_0316_9', 'perf_status_0316_A', 'perf_status_0316_C', 'perf_status_0316_K', 'perf_status_0316_M', 'perf_status_0316_P', 'perf_status_0316_Q', 'perf_status_0316_S', 'perf_status_0616_1', 'perf_status_0616_2', 'perf_status_0616_3', 'perf_status_0616_4', 'perf_status_0616_5', 'perf_status_0616_6', 'perf_status_0616_7', 'perf_status_0616_8', 'perf_status_0616_9', 'perf_status_0616_A', 'perf_status_0616_C', 'perf_status_0616_K', 'perf_status_0616_M', 'perf_status_0616_P', 'perf_status_0616_Q', 'perf_status_0616_S', 'perf_status_0916_1', 'perf_status_0916_2', 'perf_status_0916_3', 'perf_status_0916_4', 'perf_status_0916_5', 'perf_status_0916_6', 'perf_status_0916_7', 'perf_status_0916_8', 'perf_status_0916_9', 'perf_status_0916_A', 'perf_status_0916_C', 'perf_status_0916_K', 'perf_status_0916_M', 'perf_status_0916_P', 'perf_status_0916_Q', 'perf_status_0916_S', 'perf_status_1216_1', 'perf_status_1216_2', 'perf_status_1216_3', 'perf_status_1216_4', 'perf_status_1216_5', 'perf_status_1216_6', 'perf_status_1216_7', 'perf_status_1216_8', 'perf_status_1216_9', 'perf_status_1216_A', 'perf_status_1216_C', 'perf_status_1216_K', 'perf_status_1216_M', 'perf_status_1216_P', 'perf_status_1216_Q', 'perf_status_1216_S', 'perf_status_0317_1', 'perf_status_0317_2', 'perf_status_0317_3', 'perf_status_0317_4', 'perf_status_0317_5', 'perf_status_0317_6', 'perf_status_0317_7', 'perf_status_0317_8', 'perf_status_0317_9', 'perf_status_0317_A', 'perf_status_0317_C', 'perf_status_0317_K', 'perf_status_0317_M', 'perf_status_0317_P', 'perf_status_0317_Q', 'perf_status_0317_S', 'perf_status_0617_1', 'perf_status_0617_2', 'perf_status_0617_3', 'perf_status_0617_4', 'perf_status_0617_5', 'perf_status_0617_6', 'perf_status_0617_7', 'perf_status_0617_8', 'perf_status_0617_9', 'perf_status_0617_A', 'perf_status_0617_C', 'perf_status_0617_K', 'perf_status_0617_M', 'perf_status_0617_P', 'perf_status_0617_Q', 'perf_status_0617_S', 'perf_status_0917_1', 'perf_status_0917_2', 'perf_status_0917_3', 'perf_status_0917_4', 'perf_status_0917_5', 'perf_status_0917_6', 'perf_status_0917_7', 'perf_status_0917_8', 'perf_status_0917_9', 'perf_status_0917_A', 'perf_status_0917_C', 'perf_status_0917_K', 'perf_status_0917_M', 'perf_status_0917_P', 'perf_status_0917_Q', 'perf_status_0917_S', 'perf_status_1217_1', 'perf_status_1217_2', 'perf_status_1217_3', 'perf_status_1217_4', 'perf_status_1217_5', 'perf_status_1217_6', 'perf_status_1217_7', 'perf_status_1217_8', 'perf_status_1217_9', 'perf_status_1217_A', 'perf_status_1217_C', 'perf_status_1217_K', 'perf_status_1217_M', 'perf_status_1217_P', 'perf_status_1217_Q', 'perf_status_1217_S', 'perf_status_0318_1', 'perf_status_0318_2', 'perf_status_0318_3', 'perf_status_0318_4', 'perf_status_0318_5', 'perf_status_0318_6', 'perf_status_0318_7', 'perf_status_0318_8', 'perf_status_0318_9', 'perf_status_0318_A', 'perf_status_0318_C', 'perf_status_0318_K', 'perf_status_0318_M', 'perf_status_0318_P', 'perf_status_0318_Q', 'perf_status_0318_S', 'perf_status_0618_1', 'perf_status_0618_2', 'perf_status_0618_3', 'perf_status_0618_4', 'perf_status_0618_5', 'perf_status_0618_6', 'perf_status_0618_7', 'perf_status_0618_8', 'perf_status_0618_9', 'perf_status_0618_A', 'perf_status_0618_C', 'perf_status_0618_K', 'perf_status_0618_M', 'perf_status_0618_P', 'perf_status_0618_Q', 'perf_status_0618_S', 'perf_status_0918_1', 'perf_status_0918_2', 'perf_status_0918_3', 'perf_status_0918_4', 'perf_status_0918_5', 'perf_status_0918_6', 'perf_status_0918_7', 'perf_status_0918_8', 'perf_status_0918_9', 'perf_status_0918_A', 'perf_status_0918_C', 'perf_status_0918_K', 'perf_status_0918_M', 'perf_status_0918_P', 'perf_status_0918_Q', 'perf_status_0918_S', 'perf_status_1218_1', 'perf_status_1218_2', 'perf_status_1218_3', 'perf_status_1218_4', 'perf_status_1218_5', 'perf_status_1218_6', 'perf_status_1218_7', 'perf_status_1218_8', 'perf_status_1218_9', 'perf_status_1218_A', 'perf_status_1218_C', 'perf_status_1218_K', 'perf_status_1218_M', 'perf_status_1218_P', 'perf_status_1218_Q', 'perf_status_1218_S', 'perf_status_0319_1', 'perf_status_0319_2', 'perf_status_0319_3', 'perf_status_0319_4', 'perf_status_0319_5', 'perf_status_0319_6', 'perf_status_0319_7', 'perf_status_0319_8', 'perf_status_0319_9', 'perf_status_0319_A', 'perf_status_0319_C', 'perf_status_0319_K', 'perf_status_0319_M', 'perf_status_0319_P', 'perf_status_0319_Q', 'perf_status_0319_S', 'perf_status_0619_1', 'perf_status_0619_2', 'perf_status_0619_3', 'perf_status_0619_4', 'perf_status_0619_5', 'perf_status_0619_6', 'perf_status_0619_7', 'perf_status_0619_8', 'perf_status_0619_9', 'perf_status_0619_A', 'perf_status_0619_C', 'perf_status_0619_K', 'perf_status_0619_M', 'perf_status_0619_P', 'perf_status_0619_Q', 'perf_status_0619_S', 'perf_status_0919_1', 'perf_status_0919_2', 'perf_status_0919_3', 'perf_status_0919_4', 'perf_status_0919_5', 'perf_status_0919_6', 'perf_status_0919_7', 'perf_status_0919_8', 'perf_status_0919_9', 'perf_status_0919_A', 'perf_status_0919_C', 'perf_status_0919_K', 'perf_status_0919_M', 'perf_status_0919_P', 'perf_status_0919_Q', 'perf_status_0919_S', 'perf_status_1219_1', 'perf_status_1219_2', 'perf_status_1219_3', 'perf_status_1219_4', 'perf_status_1219_5', 'perf_status_1219_6', 'perf_status_1219_7', 'perf_status_1219_8', 'perf_status_1219_9', 'perf_status_1219_A', 'perf_status_1219_C', 'perf_status_1219_K', 'perf_status_1219_M', 'perf_status_1219_P', 'perf_status_1219_Q', 'perf_status_1219_S', 'perf_status_0320_1', 'perf_status_0320_2', 'perf_status_0320_3', 'perf_status_0320_4', 'perf_status_0320_5', 'perf_status_0320_6', 'perf_status_0320_7', 'perf_status_0320_8', 'perf_status_0320_9', 'perf_status_0320_A', 'perf_status_0320_C', 'perf_status_0320_K', 'perf_status_0320_M', 'perf_status_0320_P', 'perf_status_0320_Q', 'perf_status_0320_S', 'perf_status_0620_1', 'perf_status_0620_2', 'perf_status_0620_3', 'perf_status_0620_4', 'perf_status_0620_5', 'perf_status_0620_6', 'perf_status_0620_7', 'perf_status_0620_8', 'perf_status_0620_9', 'perf_status_0620_A', 'perf_status_0620_C', 'perf_status_0620_K', 'perf_status_0620_M', 'perf_status_0620_P', 'perf_status_0620_Q', 'perf_status_0620_S', 'perf_status_0920_1', 'perf_status_0920_2', 'perf_status_0920_3', 'perf_status_0920_4', 'perf_status_0920_5', 'perf_status_0920_6', 'perf_status_0920_7', 'perf_status_0920_8', 'perf_status_0920_9', 'perf_status_0920_A', 'perf_status_0920_C', 'perf_status_0920_K', 'perf_status_0920_M', 'perf_status_0920_P', 'perf_status_0920_Q', 'perf_status_0920_S', 'perf_status_1220_1', 'perf_status_1220_2', 'perf_status_1220_3', 'perf_status_1220_4', 'perf_status_1220_5', 'perf_status_1220_6', 'perf_status_1220_7', 'perf_status_1220_8', 'perf_status_1220_9', 'perf_status_1220_A', 'perf_status_1220_C', 'perf_status_1220_K', 'perf_status_1220_M', 'perf_status_1220_P', 'perf_status_1220_Q', 'perf_status_1220_S', 'perf_status_0321_1', 'perf_status_0321_2', 'perf_status_0321_3', 'perf_status_0321_4', 'perf_status_0321_5', 'perf_status_0321_6', 'perf_status_0321_7', 'perf_status_0321_8', 'perf_status_0321_9', 'perf_status_0321_A', 'perf_status_0321_C', 'perf_status_0321_K', 'perf_status_0321_M', 'perf_status_0321_P', 'perf_status_0321_Q', 'perf_status_0321_S', 'perf_status_0621_1', 'perf_status_0621_2', 'perf_status_0621_3', 'perf_status_0621_4', 'perf_status_0621_5', 'perf_status_0621_6', 'perf_status_0621_7', 'perf_status_0621_8', 'perf_status_0621_9', 'perf_status_0621_A', 'perf_status_0621_C', 'perf_status_0621_K', 'perf_status_0621_M', 'perf_status_0621_P', 'perf_status_0621_Q', 'perf_status_0621_S', 'perf_status_0921_1', 'perf_status_0921_2', 'perf_status_0921_3', 'perf_status_0921_4', 'perf_status_0921_5', 'perf_status_0921_6', 'perf_status_0921_7', 'perf_status_0921_8', 'perf_status_0921_9', 'perf_status_0921_A', 'perf_status_0921_C', 'perf_status_0921_K', 'perf_status_0921_M', 'perf_status_0921_P', 'perf_status_0921_Q', 'perf_status_0921_S', 'perf_status_1221_1', 'perf_status_1221_2', 'perf_status_1221_3', 'perf_status_1221_4', 'perf_status_1221_5', 'perf_status_1221_6', 'perf_status_1221_7', 'perf_status_1221_8', 'perf_status_1221_9', 'perf_status_1221_A', 'perf_status_1221_C', 'perf_status_1221_K', 'perf_status_1221_M', 'perf_status_1221_Q', 'perf_status_1221_S', 'perf_status_0322_1', 'perf_status_0322_2', 'perf_status_0322_3', 'perf_status_0322_4', 'perf_status_0322_5', 'perf_status_0322_6', 'perf_status_0322_7', 'perf_status_0322_8', 'perf_status_0322_9', 'perf_status_0322_A', 'perf_status_0322_C', 'perf_status_0322_K', 'perf_status_0322_M', 'perf_status_0322_S', 'perf_status_0622_1', 'perf_status_0622_2', 'perf_status_0622_3', 'perf_status_0622_4', 'perf_status_0622_5', 'perf_status_0622_6', 'perf_status_0622_7', 'perf_status_0622_8', 'perf_status_0622_9', 'perf_status_0622_A', 'perf_status_0622_C', 'perf_status_0622_M', 'perf_status_0622_S', 'perf_status_0922_1', 'perf_status_0922_2', 'perf_status_0922_3', 'perf_status_0922_4', 'perf_status_0922_5', 'perf_status_0922_6', 'perf_status_0922_8', 'perf_status_0922_9', 'perf_status_0922_A', 'perf_status_0922_C', 'perf_status_0922_M', 'perf_status_0922_S', 'perf_status_1222_1', 'perf_status_1222_2', 'perf_status_1222_3', 'perf_status_1222_4', 'perf_status_1222_5', 'perf_status_1222_6', 'perf_status_1222_7', 'perf_status_1222_8', 'perf_status_1222_9', 'perf_status_1222_A', 'perf_status_1222_C', 'perf_status_1222_M', 'perf_status_1222_S', 'perf_status_0323_1', 'perf_status_0323_2', 'perf_status_0323_3', 'perf_status_0323_4', 'perf_status_0323_5', 'perf_status_0323_6', 'perf_status_0323_7', 'perf_status_0323_8', 'perf_status_0323_9', 'perf_status_0323_A', 'perf_status_0323_C', 'perf_status_0323_M', 'perf_status_0323_S', 'perf_status_0623_1', 'perf_status_0623_2', 'perf_status_0623_3', 'perf_status_0623_4', 'perf_status_0623_5', 'perf_status_0623_6', 'perf_status_0623_8', 'perf_status_0623_9', 'perf_status_0623_A', 'perf_status_0623_C', 'perf_status_0623_M', 'perf_status_0623_S', 'perf_status_0923_1', 'perf_status_0923_2', 'perf_status_0923_3', 'perf_status_0923_4', 'perf_status_0923_5', 'perf_status_0923_6', 'perf_status_0923_8', 'perf_status_0923_9', 'perf_status_0923_A', 'perf_status_0923_C', 'perf_status_0923_M', 'perf_status_0923_S', 'close_year_2013', 'close_year_2014', 'close_year_2015', 'close_year_2016', 'close_year_2017', 'close_year_2018', 'close_year_2019', 'close_year_2020', 'close_year_2021', 'close_year_2022', 'close_year_2023', 'close_status_0923_1', 'close_status_0923_2', 'forb0320_1', 'forb0320_2', 'forb0620_1', 'forb0620_2', 'forb0920_1', 'forb0920_2', 'forb1220_1', 'forb1220_2', 'forb0321_1', 'forb0321_2', 'forb0621_1', 'forb0621_2', 'forb0921_1', 'forb0921_2', 'forb1221_1', 'forb1221_2', 'forb0322_1', 'forb0322_2', 'forb0622_1', 'forb0622_2', 'forb0922_1', 'forb0922_2', 'forb1222_1', 'forb1222_2', 'forb0323_1', 'forb0323_2', 'forb0623_1', 'forb0623_2', 'forb0923_1', 'forb0923_2']\n"
     ]
    }
   ],
   "source": [
    "# Identify date columns. These contain future information that can introduce data leakage to a model\n",
    "\n",
    "# Define regex patterns\n",
    "pattern_4digits = re.compile(r'\\d{4}$')               # ends in 4 digits\n",
    "pattern_4digits_letter = re.compile(r'\\d{4}_[A-Za-z0-9]$')  # ends in '####_[alphanumeric character]'\n",
    "\n",
    "# Filter matching columns\n",
    "date_columns = [\n",
    "    col for col in df.columns \n",
    "    if pattern_4digits.search(col) or pattern_4digits_letter.search(col)\n",
    "]\n",
    "\n",
    "print(date_columns)"
   ]
  },
  {
   "cell_type": "code",
   "execution_count": 71,
   "id": "bb91d4a8",
   "metadata": {},
   "outputs": [],
   "source": [
    "# Combine the two lists of variables\n",
    "exclude_variables += date_columns"
   ]
  },
  {
   "cell_type": "code",
   "execution_count": 72,
   "id": "971e4d32",
   "metadata": {},
   "outputs": [],
   "source": [
    "df = df.drop(exclude_variables, axis=1)"
   ]
  },
  {
   "cell_type": "code",
   "execution_count": 73,
   "id": "71bd5f4a",
   "metadata": {},
   "outputs": [],
   "source": [
    "# Survey question columns being dropped for pure calcluation based on borrower profile\n",
    "survey_columns = [col for col in df.columns if col.startswith('x')]"
   ]
  },
  {
   "cell_type": "code",
   "execution_count": 74,
   "id": "7df69811",
   "metadata": {},
   "outputs": [],
   "source": [
    "# Demographic data in x74 - 80, keeping those columns\n",
    "demographic_columns = ['x' + str(i) for i in range(74,81)]"
   ]
  },
  {
   "cell_type": "code",
   "execution_count": 75,
   "id": "3919b5df",
   "metadata": {},
   "outputs": [],
   "source": [
    "survey_columns = [col for col in survey_columns if not col.startswith(tuple(demographic_columns))]"
   ]
  },
  {
   "cell_type": "code",
   "execution_count": 76,
   "id": "080629f4",
   "metadata": {},
   "outputs": [],
   "source": [
    "df = df.drop(survey_columns, axis=1)\n",
    "exclude_variables += survey_columns"
   ]
  },
  {
   "cell_type": "code",
   "execution_count": 77,
   "id": "5f547296",
   "metadata": {},
   "outputs": [],
   "source": [
    "# Survey indicator columns being dropped\n",
    "indicator_columns = [col for col in df.columns if col.startswith('z')]"
   ]
  },
  {
   "cell_type": "code",
   "execution_count": 78,
   "id": "66401bcf",
   "metadata": {},
   "outputs": [],
   "source": [
    "df = df.drop(indicator_columns, axis=1)\n",
    "exclude_variables += indicator_columns"
   ]
  },
  {
   "cell_type": "code",
   "execution_count": 79,
   "id": "5243e847",
   "metadata": {},
   "outputs": [],
   "source": [
    "# Identifying low score, as banks typically use \"lower middle\" scoring\n",
    "# Banks pull 3 bureaus for each borrower, take the middle score for each borrower\n",
    "# then use the lowest borrowers middle score\n",
    "score_columns = [col for col in df.columns if col.startswith('score')]"
   ]
  },
  {
   "cell_type": "code",
   "execution_count": 80,
   "id": "ed60b925",
   "metadata": {},
   "outputs": [
    {
     "data": {
      "text/plain": [
       "['score_orig_r',\n",
       " 'score_orig_s',\n",
       " 'score_orig_o1',\n",
       " 'score_orig_o2',\n",
       " 'score_orig_o3']"
      ]
     },
     "execution_count": 80,
     "metadata": {},
     "output_type": "execute_result"
    }
   ],
   "source": [
    "score_columns"
   ]
  },
  {
   "cell_type": "code",
   "execution_count": 81,
   "id": "6db862ae",
   "metadata": {},
   "outputs": [],
   "source": [
    "df['low_score'] = df[score_columns].min(axis=1)"
   ]
  },
  {
   "cell_type": "code",
   "execution_count": 82,
   "id": "a1ebe5aa",
   "metadata": {},
   "outputs": [
    {
     "data": {
      "text/plain": [
       "count   50542.000\n",
       "mean      739.646\n",
       "std        64.210\n",
       "min       422.000\n",
       "25%       697.000\n",
       "50%       752.000\n",
       "75%       794.000\n",
       "max       839.000\n",
       "Name: low_score, dtype: float64"
      ]
     },
     "execution_count": 82,
     "metadata": {},
     "output_type": "execute_result"
    }
   ],
   "source": [
    "df['low_score'].describe()"
   ]
  },
  {
   "cell_type": "code",
   "execution_count": 83,
   "id": "d4970cce",
   "metadata": {},
   "outputs": [],
   "source": [
    "df = df.drop(score_columns, axis=1)\n",
    "exclude_variables += score_columns"
   ]
  },
  {
   "cell_type": "code",
   "execution_count": 84,
   "id": "71792b2f",
   "metadata": {},
   "outputs": [],
   "source": [
    "# dropping open/close month columns as this contains possible data leakage of interest rates\n",
    "open_columns = [col for col in df.columns if col.startswith('open')]\n",
    "close_columns = [col for col in df.columns if col.startswith('close')]"
   ]
  },
  {
   "cell_type": "code",
   "execution_count": 85,
   "id": "df4dbcbe",
   "metadata": {},
   "outputs": [
    {
     "data": {
      "text/plain": [
       "['open_month_1',\n",
       " 'open_month_2',\n",
       " 'open_month_3',\n",
       " 'open_month_4',\n",
       " 'open_month_5',\n",
       " 'open_month_6',\n",
       " 'open_month_7',\n",
       " 'open_month_8',\n",
       " 'open_month_9',\n",
       " 'open_month_10',\n",
       " 'open_month_11',\n",
       " 'open_month_12']"
      ]
     },
     "execution_count": 85,
     "metadata": {},
     "output_type": "execute_result"
    }
   ],
   "source": [
    "open_columns"
   ]
  },
  {
   "cell_type": "code",
   "execution_count": 86,
   "id": "5752705c",
   "metadata": {},
   "outputs": [
    {
     "data": {
      "text/plain": [
       "['close_month_1',\n",
       " 'close_month_2',\n",
       " 'close_month_3',\n",
       " 'close_month_4',\n",
       " 'close_month_5',\n",
       " 'close_month_6',\n",
       " 'close_month_7',\n",
       " 'close_month_8',\n",
       " 'close_month_9',\n",
       " 'close_month_10',\n",
       " 'close_month_11',\n",
       " 'close_month_12']"
      ]
     },
     "execution_count": 86,
     "metadata": {},
     "output_type": "execute_result"
    }
   ],
   "source": [
    "close_columns"
   ]
  },
  {
   "cell_type": "code",
   "execution_count": 87,
   "id": "02b86467",
   "metadata": {},
   "outputs": [],
   "source": [
    "df = df.drop(open_columns + close_columns, axis=1)\n",
    "exclude_variables += open_columns + close_columns"
   ]
  },
  {
   "cell_type": "code",
   "execution_count": 88,
   "id": "1257994a",
   "metadata": {},
   "outputs": [],
   "source": [
    "with open('model_excluded_variables.yaml', 'w', encoding='utf-8') as file:\n",
    "    yaml.dump(exclude_variables, file)"
   ]
  }
 ],
 "metadata": {
  "kernelspec": {
   "display_name": "venv",
   "language": "python",
   "name": "python3"
  },
  "language_info": {
   "codemirror_mode": {
    "name": "ipython",
    "version": 3
   },
   "file_extension": ".py",
   "mimetype": "text/x-python",
   "name": "python",
   "nbconvert_exporter": "python",
   "pygments_lexer": "ipython3",
   "version": "3.12.10"
  }
 },
 "nbformat": 4,
 "nbformat_minor": 5
}
